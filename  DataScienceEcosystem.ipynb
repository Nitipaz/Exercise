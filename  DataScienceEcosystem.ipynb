{
 "cells": [
  {
   "cell_type": "markdown",
   "id": "83128a02-155f-4bab-b9a7-ef489b9d7a22",
   "metadata": {},
   "source": [
    "# Data Science Tools and Ecosystem"
   ]
  },
  {
   "cell_type": "markdown",
   "id": "b5762cdb-2f7e-4c88-a613-f2a44dfb4cac",
   "metadata": {},
   "source": [
    "In this notebook, Data Science Tools and Ecosystem are summarized.\n"
   ]
  },
  {
   "cell_type": "markdown",
   "id": "50a03a8d-a293-4dc6-98d5-7348b6b6e544",
   "metadata": {},
   "source": [
    "**Objectives:**\n",
    "- List popular languages for Data Science\n",
    "- List libraries used by Data Scientists\n",
    "- arithmetic expressions"
   ]
  },
  {
   "cell_type": "markdown",
   "id": "cf66634a-a9bd-4ed8-b578-cae1d79df696",
   "metadata": {},
   "source": [
    "## Author\n",
    "Putter"
   ]
  },
  {
   "cell_type": "markdown",
   "id": "ad8042d1-bf6f-4129-b302-082918321552",
   "metadata": {},
   "source": [
    "Some of the popular languages that Data Scientists use are:\r\n"
   ]
  },
  {
   "cell_type": "markdown",
   "id": "1ccef312-a63b-4258-b36d-06f66fb9af85",
   "metadata": {},
   "source": [
    "- python\n",
    "- R\n",
    "- scala"
   ]
  },
  {
   "cell_type": "markdown",
   "id": "25b7108f-3317-49a6-99de-4b2430dc4cf4",
   "metadata": {},
   "source": [
    "Some of the commonly used libraries used by Data Scientists include:\n"
   ]
  },
  {
   "cell_type": "markdown",
   "id": "996f776d-84b3-4c7c-89bc-22b115aa43e0",
   "metadata": {},
   "source": [
    "- scikitlearn\n",
    "- ggplot\n",
    "- Tensorflow"
   ]
  },
  {
   "cell_type": "markdown",
   "id": "05d8fef3-2393-4264-90aa-88d19d5a99fe",
   "metadata": {},
   "source": [
    "|Data Science Tools|\n",
    "|------------------|\n",
    "|Python            |\n",
    "|Pytorch           |\n",
    "|MySQL             |"
   ]
  },
  {
   "cell_type": "markdown",
   "id": "c19cffe5-2239-4ef7-a426-31c4ef3e8549",
   "metadata": {},
   "source": [
    "Below are a few examples of evaluating arithmetic expressions in Python."
   ]
  },
  {
   "cell_type": "code",
   "execution_count": 8,
   "id": "14bad651-0753-4441-83a8-389155e7fad5",
   "metadata": {},
   "outputs": [
    {
     "data": {
      "text/plain": [
       "17"
      ]
     },
     "execution_count": 8,
     "metadata": {},
     "output_type": "execute_result"
    }
   ],
   "source": [
    "# This a simple arithmetic expression to mutiply then add integers\n",
    "(3*4)+5"
   ]
  },
  {
   "cell_type": "code",
   "execution_count": 9,
   "id": "afab83a3-6c1f-4a53-9901-df2cbfda1fb9",
   "metadata": {},
   "outputs": [
    {
     "data": {
      "text/plain": [
       "3.3333333333333335"
      ]
     },
     "execution_count": 9,
     "metadata": {},
     "output_type": "execute_result"
    }
   ],
   "source": [
    " # This will convert 200 minutes to hours by diving by 60\n",
    "200/60"
   ]
  },
  {
   "cell_type": "code",
   "execution_count": null,
   "id": "9e5d47e1-cb6d-4a61-a263-a524482dc99f",
   "metadata": {},
   "outputs": [],
   "source": []
  }
 ],
 "metadata": {
  "kernelspec": {
   "display_name": "Python 3 (ipykernel)",
   "language": "python",
   "name": "python3"
  },
  "language_info": {
   "codemirror_mode": {
    "name": "ipython",
    "version": 3
   },
   "file_extension": ".py",
   "mimetype": "text/x-python",
   "name": "python",
   "nbconvert_exporter": "python",
   "pygments_lexer": "ipython3",
   "version": "3.11.7"
  }
 },
 "nbformat": 4,
 "nbformat_minor": 5
}
